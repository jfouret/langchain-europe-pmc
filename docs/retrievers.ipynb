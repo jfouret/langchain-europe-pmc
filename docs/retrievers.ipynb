{
 "cells": [
  {
   "cell_type": "markdown",
   "id": "a0c9c9c1-e5e2-4c0a-a1a4-c5c9a9c9c9c9",
   "metadata": {},
   "source": [
    "# Retrievers\n",
    "\n",
    "This notebook shows how to use the retrievers in the LangChain Europe PMC package."
   ]
  },
  {
   "cell_type": "markdown",
   "id": "b1c9c9c1-e5e2-4c0a-a1a4-c5c9a9c9c9c9",
   "metadata": {},
   "source": [
    "## EuropePMCRetriever\n",
    "\n",
    "The `EuropePMCRetriever` retrieves scientific articles from Europe PMC, a repository of biomedical and life sciences literature. It uses the Europe PMC API to search for articles based on a query and returns them as Document objects."
   ]
  },
  {
   "cell_type": "code",
   "execution_count": 2,
   "id": "c2c9c9c1-e5e2-4c0a-a1a4-c5c9a9c9c9c9",
   "metadata": {},
   "outputs": [
    {
     "name": "stdout",
     "output_type": "stream",
     "text": [
      "Found 3 documents\n",
      "\n",
      "First document:\n",
      "# Markers of neutrophil activation and some immune and haematological indices in malaria infection during pregnancy.\n",
      "\n",
      "##Abstract\n",
      "\n",
      "#### Background\n",
      "\n",
      "Neutrophils are the first responders to pathogen invasion and are important first-line defenders. The defence mechanism of activated neutrophils includes neutrophil extracellular traps (NETs) formation that immobilize pathogens, stop their spread within the tissues, and ultimately kill them. However, their roles in the context of malaria during pregnancy are still elusive. This study was conducted to investigate markers of neutrophil activation as well as immunological and haematological cellular responses during Plasmodium infection in pregnancy.\n",
      "\n",
      "#### Method\n",
      "\n",
      "A total of 340 pregnant women aged between 19 and 42 years were recruited for this study carried out in South-east, Nigeria. All the subjects were tested for malaria parasite (MP) status. Those infected with human immunodeficiency virus (HIV) and those with any other co-morbidity were excluded from the study. A total of 45 (13.2%) of the 340 pregnant women were positive for malaria. To assess immune, haematologic and NETs markers in the MP positive group, 45 matched malaria-negative pregnant women from the malaria negative group served as controls. Thus, the final study population was grouped into two categories: 45 pregnant women infected with Plasmodium falciparum and 45 pregnant malaria-negative control group. The neutrophil elastase concentration, myeloperoxidase activity, total white blood cell counts, white blood cell differential counts, platelet counts and haematocrit were assessed via standard laboratory methods.\n",
      "\n",
      "#### Results\n",
      "\n",
      "Findings from this study revealed lower levels of myeloperoxidase in the malaria- infected cohort (p = 0.013) than in the malaria negative cohort. The neutrophil elastase levels were also lower in the malaria negative group (p = 0.042). The total white blood cells, platelet and neutrophil counts were lower (p = 0.046, 0.012 and 0.015, respectively) in the malaria infected group when compared to the controls. Conversely, lymphocyte counts were higher in the malaria-infected group (p = 0.003). No cases with high parasitaemia were encountered among the pregnant women infected with Plasmodium falciparum.\n",
      "\n",
      "#### Conclusion\n",
      "\n",
      "Malaria infection led to alterations in immune and haematological parameters in this group, with mild and moderate malaria parasitaemia in the study cohort. Although there were some significant differences, the assessed values remained mostly within the normal range. Further studies in a larger cohort assessing pregnant women infected with placental malaria and those with fatal outcomes are important to further investigate the role of NETs in malaria infection.\n"
     ]
    }
   ],
   "source": [
    "from langchain_europe_pmc.retrievers import EuropePMCRetriever\n",
    "\n",
    "# Initialize the retriever with default parameters\n",
    "retriever = EuropePMCRetriever()\n",
    "\n",
    "# Search for articles about cancer\n",
    "docs = retriever.invoke(\"malaria\")\n",
    "\n",
    "# Print the first document\n",
    "print(f\"Found {len(docs)} documents\")\n",
    "if docs:\n",
    "    print(\"\\nFirst document:\")\n",
    "    print(docs[0].page_content)"
   ]
  },
  {
   "cell_type": "markdown",
   "id": "d3c9c9c1-e5e2-4c0a-a1a4-c5c9a9c9c9c9",
   "metadata": {},
   "source": [
    "### Customizing the Retriever\n",
    "\n",
    "You can customize the retriever by specifying parameters such as the number of results to return, the maximum query length, and the result type."
   ]
  },
  {
   "cell_type": "code",
   "execution_count": 3,
   "id": "e4c9c9c1-e5e2-4c0a-a1a4-c5c9a9c9c9c9",
   "metadata": {},
   "outputs": [
    {
     "name": "stdout",
     "output_type": "stream",
     "text": [
      "Found 3 documents\n",
      "\n",
      "1. Vectors in CRISPR Gene Editing for Neurological Disorders: Challenges and Opportunities.\n",
      "2. Research advances CRISPR gene editing technology generated models in the study of epithelial ovarian carcinoma.\n",
      "3. CRISPR Gene-Editing Combat: Targeting AIDS for total eradication.\n"
     ]
    }
   ],
   "source": [
    "# Initialize the retriever with custom parameters\n",
    "retriever = EuropePMCRetriever(\n",
    "    top_k_results=5,  # Return 5 results instead of the default 3\n",
    "    result_type=\"core\"  # Use the core result type\n",
    ")\n",
    "\n",
    "# Search for articles about CRISPR gene editing\n",
    "docs = retriever.invoke(\"CRISPR gene editing\")\n",
    "\n",
    "# Print the number of documents and their titles\n",
    "print(f\"Found {len(docs)} documents\\n\")\n",
    "for i, doc in enumerate(docs):\n",
    "    title = doc.metadata.get(\"title\", \"No title available\")\n",
    "    print(f\"{i+1}. {title}\")"
   ]
  },
  {
   "cell_type": "markdown",
   "id": "f5c9c9c1-e5e2-4c0a-a1a4-c5c9a9c9c9c9",
   "metadata": {},
   "source": [
    "### Using the Retriever in a Chain\n",
    "\n",
    "You can use the retriever in a LangChain chain to answer questions based on the retrieved documents."
   ]
  },
  {
   "cell_type": "code",
   "execution_count": null,
   "id": "g6c9c9c1-e5e2-4c0a-a1a4-c5c9a9c9c9c9",
   "metadata": {},
   "outputs": [],
   "source": [
    "from langchain_core.output_parsers import StrOutputParser\n",
    "from langchain_core.prompts import ChatPromptTemplate\n",
    "from langchain_core.runnables import RunnablePassthrough\n",
    "from langchain_openai import ChatOpenAI\n",
    "\n",
    "# Initialize the retriever\n",
    "retriever = EuropePMCRetriever(top_k_results=3)\n",
    "\n",
    "# Create a prompt template\n",
    "prompt = ChatPromptTemplate.from_template(\n",
    "    \"\"\"Answer the question based only on the context provided.\n",
    "\n",
    "Context: {context}\n",
    "\n",
    "Question: {question}\"\"\"\n",
    ")\n",
    "\n",
    "# Initialize the language model\n",
    "llm = ChatOpenAI(model=\"gpt-3.5-turbo-0125\")\n",
    "\n",
    "# Function to format documents\n",
    "def format_docs(docs):\n",
    "    return \"\\n\\n\".join(doc.page_content for doc in docs)\n",
    "\n",
    "# Create the chain\n",
    "chain = (\n",
    "    {\"context\": retriever | format_docs, \"question\": RunnablePassthrough()}\n",
    "    | prompt\n",
    "    | llm\n",
    "    | StrOutputParser()\n",
    ")\n",
    "\n",
    "# Run the chain\n",
    "response = chain.invoke(\"What are the latest advances in CRISPR gene editing for cystic fibrosis?\")\n",
    "print(response)"
   ]
  },
  {
   "cell_type": "markdown",
   "id": "h7c9c9c1-e5e2-4c0a-a1a4-c5c9a9c9c9c9",
   "metadata": {},
   "source": [
    "### Accessing Document Metadata\n",
    "\n",
    "Each document returned by the retriever includes metadata such as the title, authors, journal, year, PMID, DOI, and URL. You can access this metadata to get more information about the retrieved documents."
   ]
  },
  {
   "cell_type": "code",
   "execution_count": null,
   "id": "i8c9c9c1-e5e2-4c0a-a1a4-c5c9a9c9c9c9",
   "metadata": {},
   "outputs": [],
   "source": [
    "# Initialize the retriever\n",
    "retriever = EuropePMCRetriever(top_k_results=1)\n",
    "\n",
    "# Search for articles about Alzheimer's disease\n",
    "docs = retriever.invoke(\"Alzheimer's disease\")\n",
    "\n",
    "# Print the metadata of the first document\n",
    "if docs:\n",
    "    doc = docs[0]\n",
    "    print(\"Document Metadata:\")\n",
    "    for key, value in doc.metadata.items():\n",
    "        print(f\"{key}: {value}\")\n",
    "    \n",
    "    # Print the URL to access the article\n",
    "    print(f\"\\nAccess the article at: {doc.metadata.get('url', 'URL not available')}\")"
   ]
  }
 ],
 "metadata": {
  "kernelspec": {
   "display_name": "langchain-europe-pmc-eljp-8VI-py3.12",
   "language": "python",
   "name": "python3"
  },
  "language_info": {
   "codemirror_mode": {
    "name": "ipython",
    "version": 3
   },
   "file_extension": ".py",
   "mimetype": "text/x-python",
   "name": "python",
   "nbconvert_exporter": "python",
   "pygments_lexer": "ipython3",
   "version": "3.12.3"
  }
 },
 "nbformat": 4,
 "nbformat_minor": 5
}
