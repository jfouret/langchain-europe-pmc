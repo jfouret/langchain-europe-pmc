{
 "cells": [
  {
   "cell_type": "markdown",
   "id": "a0c9c9c1-e5e2-4c0a-a1a4-c5c9a9c9c9c9",
   "metadata": {},
   "source": [
    "# Retrievers\n",
    "\n",
    "This notebook shows how to use the retrievers in the LangChain Europe PMC package."
   ]
  },
  {
   "cell_type": "markdown",
   "id": "b1c9c9c1-e5e2-4c0a-a1a4-c5c9a9c9c9c9",
   "metadata": {},
   "source": [
    "## EuropePMCRetriever\n",
    "\n",
    "The `EuropePMCRetriever` retrieves scientific articles from Europe PMC, a repository of biomedical and life sciences literature. It uses the Europe PMC API to search for articles based on a query and returns them as Document objects."
   ]
  },
  {
   "cell_type": "code",
   "execution_count": null,
   "id": "c2c9c9c1-e5e2-4c0a-a1a4-c5c9a9c9c9c9",
   "metadata": {},
   "outputs": [],
   "source": [
    "from langchain_europe_pmc.retrievers import EuropePMCRetriever\n",
    "\n",
    "# Initialize the retriever with default parameters\n",
    "retriever = EuropePMCRetriever()\n",
    "\n",
    "# Search for articles about cancer\n",
    "docs = retriever.invoke(\"cancer\")\n",
    "\n",
    "# Print the first document\n",
    "print(f\"Found {len(docs)} documents\")\n",
    "if docs:\n",
    "    print(\"\\nFirst document:\")\n",
    "    print(docs[0].page_content)"
   ]
  },
  {
   "cell_type": "markdown",
   "id": "d3c9c9c1-e5e2-4c0a-a1a4-c5c9a9c9c9c9",
   "metadata": {},
   "source": [
    "### Customizing the Retriever\n",
    "\n",
    "You can customize the retriever by specifying parameters such as the number of results to return, the maximum query length, and the result type."
   ]
  },
  {
   "cell_type": "code",
   "execution_count": null,
   "id": "e4c9c9c1-e5e2-4c0a-a1a4-c5c9a9c9c9c9",
   "metadata": {},
   "outputs": [],
   "source": [
    "# Initialize the retriever with custom parameters\n",
    "retriever = EuropePMCRetriever(\n",
    "    top_k_results=5,  # Return 5 results instead of the default 3\n",
    "    result_type=\"core\"  # Use the core result type\n",
    ")\n",
    "\n",
    "# Search for articles about CRISPR gene editing\n",
    "docs = retriever.invoke(\"CRISPR gene editing\")\n",
    "\n",
    "# Print the number of documents and their titles\n",
    "print(f\"Found {len(docs)} documents\\n\")\n",
    "for i, doc in enumerate(docs):\n",
    "    title = doc.metadata.get(\"title\", \"No title available\")\n",
    "    print(f\"{i+1}. {title}\")"
   ]
  },
  {
   "cell_type": "markdown",
   "id": "f5c9c9c1-e5e2-4c0a-a1a4-c5c9a9c9c9c9",
   "metadata": {},
   "source": [
    "### Using the Retriever in a Chain\n",
    "\n",
    "You can use the retriever in a LangChain chain to answer questions based on the retrieved documents."
   ]
  },
  {
   "cell_type": "code",
   "execution_count": null,
   "id": "g6c9c9c1-e5e2-4c0a-a1a4-c5c9a9c9c9c9",
   "metadata": {},
   "outputs": [],
   "source": [
    "from langchain_core.output_parsers import StrOutputParser\n",
    "from langchain_core.prompts import ChatPromptTemplate\n",
    "from langchain_core.runnables import RunnablePassthrough\n",
    "from langchain_openai import ChatOpenAI\n",
    "\n",
    "# Initialize the retriever\n",
    "retriever = EuropePMCRetriever(top_k_results=3)\n",
    "\n",
    "# Create a prompt template\n",
    "prompt = ChatPromptTemplate.from_template(\n",
    "    \"\"\"Answer the question based only on the context provided.\n",
    "\n",
    "Context: {context}\n",
    "\n",
    "Question: {question}\"\"\"\n",
    ")\n",
    "\n",
    "# Initialize the language model\n",
    "llm = ChatOpenAI(model=\"gpt-3.5-turbo-0125\")\n",
    "\n",
    "# Function to format documents\n",
    "def format_docs(docs):\n",
    "    return \"\\n\\n\".join(doc.page_content for doc in docs)\n",
    "\n",
    "# Create the chain\n",
    "chain = (\n",
    "    {\"context\": retriever | format_docs, \"question\": RunnablePassthrough()}\n",
    "    | prompt\n",
    "    | llm\n",
    "    | StrOutputParser()\n",
    ")\n",
    "\n",
    "# Run the chain\n",
    "response = chain.invoke(\"What are the latest advances in CRISPR gene editing for cystic fibrosis?\")\n",
    "print(response)"
   ]
  },
  {
   "cell_type": "markdown",
   "id": "h7c9c9c1-e5e2-4c0a-a1a4-c5c9a9c9c9c9",
   "metadata": {},
   "source": [
    "### Accessing Document Metadata\n",
    "\n",
    "Each document returned by the retriever includes metadata such as the title, authors, journal, year, PMID, DOI, and URL. You can access this metadata to get more information about the retrieved documents."
   ]
  },
  {
   "cell_type": "code",
   "execution_count": null,
   "id": "i8c9c9c1-e5e2-4c0a-a1a4-c5c9a9c9c9c9",
   "metadata": {},
   "outputs": [],
   "source": [
    "# Initialize the retriever\n",
    "retriever = EuropePMCRetriever(top_k_results=1)\n",
    "\n",
    "# Search for articles about Alzheimer's disease\n",
    "docs = retriever.invoke(\"Alzheimer's disease\")\n",
    "\n",
    "# Print the metadata of the first document\n",
    "if docs:\n",
    "    doc = docs[0]\n",
    "    print(\"Document Metadata:\")\n",
    "    for key, value in doc.metadata.items():\n",
    "        print(f\"{key}: {value}\")\n",
    "    \n",
    "    # Print the URL to access the article\n",
    "    print(f\"\\nAccess the article at: {doc.metadata.get('url', 'URL not available')}\")"
   ]
  }
 ],
 "metadata": {
  "kernelspec": {
   "display_name": "Python 3 (ipykernel)",
   "language": "python",
   "name": "python3"
  },
  "language_info": {
   "codemirror_mode": {
    "name": "ipython",
    "version": 3
   },
   "file_extension": ".py",
   "mimetype": "text/x-python",
   "name": "python",
   "nbconvert_exporter": "python",
   "pygments_lexer": "ipython3",
   "version": "3.9.1"
  }
 },
 "nbformat": 4,
 "nbformat_minor": 5
}
